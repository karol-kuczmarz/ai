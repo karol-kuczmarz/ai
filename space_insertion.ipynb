{
 "cells": [
  {
   "cell_type": "markdown",
   "metadata": {},
   "source": [
    "## Task\n",
    "Given dictionary (set of all words in language) and given sequence of words wihout spaces try to divide it into words to get meaningful sentence.\n",
    "\n",
    "Try to do this by finding division such that sum of squares of received words is maximum.\n",
    "\n",
    "## Solution\n",
    "The main idea is to use dynamic programming. We need to find a fast way to find words at the end of currently considered substring.\n",
    "\n",
    "We generate suffix tree from our dictionary."
   ]
  },
  {
   "cell_type": "markdown",
   "metadata": {},
   "source": [
    "## Imports"
   ]
  },
  {
   "cell_type": "code",
   "execution_count": 1,
   "metadata": {},
   "outputs": [],
   "source": [
    "import numpy as np\n",
    "import sys"
   ]
  },
  {
   "cell_type": "markdown",
   "metadata": {},
   "source": [
    "## Code"
   ]
  },
  {
   "cell_type": "code",
   "execution_count": 2,
   "metadata": {},
   "outputs": [],
   "source": [
    "words = open('words_for_ai1.txt', 'r')\n",
    "words = words.readlines()\n",
    "words.pop(0)\n",
    "words = list(map(lambda x: x[:-1], words))"
   ]
  },
  {
   "cell_type": "code",
   "execution_count": 3,
   "metadata": {},
   "outputs": [],
   "source": [
    "dictionary = {}\n",
    "\n",
    "words_rev = list(map(lambda x: x[::-1], words))\n",
    "\n",
    "for word in words_rev:\n",
    "    loc_dic = dictionary\n",
    "    for letter in word:\n",
    "        if letter in loc_dic:\n",
    "            loc_dic = loc_dic[letter]\n",
    "        else:\n",
    "            loc_dic[letter] = {}\n",
    "            loc_dic = loc_dic[letter]\n",
    "    loc_dic['\\n'] = {}"
   ]
  },
  {
   "cell_type": "code",
   "execution_count": 4,
   "metadata": {},
   "outputs": [],
   "source": [
    "def single_iter(line):\n",
    "    N = len(line)\n",
    "    dp = np.full((N+1, 2), -1)\n",
    "    dp[0,0] = 0\n",
    "    dp[0,1] = 0\n",
    "    for s in range(1, N+1):\n",
    "        best_value = 0\n",
    "        best_word = -1\n",
    "        loc_dic = dictionary\n",
    "        depth = 1\n",
    "        for letter in line[:s][::-1]:\n",
    "            if depth > s:\n",
    "                break\n",
    "            if letter in loc_dic:\n",
    "                if '\\n' in loc_dic[letter] and dp[s-depth,1] != -1 and \\\n",
    "                        dp[s-depth,0] + depth*depth > best_value:\n",
    "                    best_value = dp[s-depth,0] + depth*depth\n",
    "                    best_word = depth\n",
    "                loc_dic = loc_dic[letter]\n",
    "            else:\n",
    "                break\n",
    "            depth +=1\n",
    "        dp[s,0] = best_value\n",
    "        dp[s,1] = best_word\n",
    "    prev = dp[N,1]\n",
    "    kont = N\n",
    "    ans = ''\n",
    "    while(kont - prev > 0):\n",
    "        ans = line[kont-prev:kont] + ' ' + ans\n",
    "        kont -= prev\n",
    "        prev = dp[kont,1]\n",
    "    ans = line[:kont] + ' ' + ans\n",
    "    ans = ans[:-1]\n",
    "    return ans"
   ]
  },
  {
   "cell_type": "code",
   "execution_count": 5,
   "metadata": {},
   "outputs": [
    {
     "data": {
      "text/plain": [
       "'ta matematyka pustki nie znosi'"
      ]
     },
     "execution_count": 5,
     "metadata": {},
     "output_type": "execute_result"
    }
   ],
   "source": [
    "single_iter('tamatematykapustkinieznosi')"
   ]
  }
 ],
 "metadata": {
  "kernelspec": {
   "display_name": "Python 3",
   "language": "python",
   "name": "python3"
  },
  "language_info": {
   "codemirror_mode": {
    "name": "ipython",
    "version": 3
   },
   "file_extension": ".py",
   "mimetype": "text/x-python",
   "name": "python",
   "nbconvert_exporter": "python",
   "pygments_lexer": "ipython3",
   "version": "3.8.3"
  }
 },
 "nbformat": 4,
 "nbformat_minor": 4
}
